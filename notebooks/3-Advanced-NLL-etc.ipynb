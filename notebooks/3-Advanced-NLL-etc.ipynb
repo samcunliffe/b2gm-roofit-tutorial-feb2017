{
 "cells": [
  {
   "cell_type": "markdown",
   "metadata": {},
   "source": [
    "# Part 3) [Advanced] Running the minimisation interactively and getting hold of the NLL (at the minimum)"
   ]
  },
  {
   "cell_type": "code",
   "execution_count": 2,
   "metadata": {
    "collapsed": false
   },
   "outputs": [
    {
     "data": {
      "application/javascript": [
       "\n",
       "require(['notebook'],\n",
       "  function() {\n",
       "    IPython.CodeCell.config_defaults.highlight_modes['magic_text/x-c++src'] = {'reg':[/^%%cpp/]};\n",
       "    console.log(\"JupyROOT - %%cpp magic configured\");\n",
       "  }\n",
       ");\n"
      ]
     },
     "metadata": {},
     "output_type": "display_data"
    },
    {
     "name": "stdout",
     "output_type": "stream",
     "text": [
      "Welcome to JupyROOT 6.08/02\n"
     ]
    }
   ],
   "source": [
    "import ROOT as r"
   ]
  },
  {
   "cell_type": "markdown",
   "metadata": {},
   "source": [
    "Here's the model from exercise 1b"
   ]
  },
  {
   "cell_type": "code",
   "execution_count": 3,
   "metadata": {
    "collapsed": false
   },
   "outputs": [
    {
     "name": "stdout",
     "output_type": "stream",
     "text": [
      "\n",
      "\u001b[1mRooFit v3.60 -- Developed by Wouter Verkerke and David Kirkby\u001b[0m \n",
      "                Copyright (C) 2000-2013 NIKHEF, University of California & Stanford University\n",
      "                All rights reserved, please read http://roofit.sourceforge.net/license.txt\n",
      "\n"
     ]
    }
   ],
   "source": [
    "mBC = r.RooRealVar('B0_mbc', 'm_{MC}', 5.2, 5.29, 'GeV/c^{2}')\n",
    "\n",
    "# signal model\n",
    "mB0 = r.RooRealVar('mB0', 'm_{B^0}', 5.280, 5.1, 5.3, 'GeV/c^{2}')      # the mass of the B0 meson\n",
    "gB0 = r.RooRealVar('gB0', '#Gamma_{B^0}', 0.003, 0.0001, 0.015, 'GeV/c^{2}')   # the width of the B0 meson\n",
    "alp = r.RooRealVar('alp', '#alpha_{CB}', 1.3, 0.1, 5)\n",
    "ncb = r.RooRealVar('ncb', 'n_{CB}', 15)\n",
    "sig = r.RooCBShape('sig', 'signal component', mBC, mB0, gB0, alp, ncb)\n",
    "\n",
    "# background model\n",
    "mCt = r.RooRealVar('mCt', 'm_{cutoff}', 5.29, 5.2, 5.3, 'GeV/c^{2}')\n",
    "crv = r.RooRealVar('crv', 'c_{curvature}', -20, -80, -1)\n",
    "bkg = r.RooArgusBG('bkg', 'background component', mBC, mCt, crv)\n",
    "\n",
    "# signal + background\n",
    "nsg = r.RooRealVar('nsg', 'n_{s}', 7000, 10, 10000)\n",
    "nbg = r.RooRealVar('nbg', 'n_{b}', 3000, 10, 10000)\n",
    "pdf = r.RooAddPdf('pdf', 'two component model', r.RooArgList(sig, bkg), r.RooArgList(nsg, nbg))"
   ]
  },
  {
   "cell_type": "markdown",
   "metadata": {},
   "source": [
    "## Look at the NLL"
   ]
  },
  {
   "cell_type": "markdown",
   "metadata": {},
   "source": [
    "Before I do anything let's open up the data again"
   ]
  },
  {
   "cell_type": "code",
   "execution_count": 3,
   "metadata": {
    "collapsed": false
   },
   "outputs": [
    {
     "name": "stdout",
     "output_type": "stream",
     "text": [
      "[#1] INFO:Eval -- RooAbsReal::attachToTree(B0_mbc) TTree Float_t branch B0_mbc will be converted to double precision\n"
     ]
    }
   ],
   "source": [
    "# get the data in a TTree format\n",
    "fi = r.TFile('fitme.root', 'READ')\n",
    "tr = r.TTree()\n",
    "fi.GetObject('BtoKstG', tr)\n",
    "\n",
    "# get the data in RooFit land\n",
    "rds = r.RooDataSet('data', 'B#rightarrow K^{*}#gamma simulation', tr, r.RooArgSet(mBC))"
   ]
  },
  {
   "cell_type": "markdown",
   "metadata": {},
   "source": [
    "So far we've been using `RooAbsPdf::fitTo(RooDataSet*)`. This is OK for simple fits. But what if we want to debug things and actually plot the likelihood?\n",
    "`RooFit` let's us run the fit interactively calling the minimisation methods by instantiating a `RooMinuit` object."
   ]
  },
  {
   "cell_type": "code",
   "execution_count": 4,
   "metadata": {
    "collapsed": false
   },
   "outputs": [],
   "source": [
    "nll = pdf.createNLL(rds, r.RooFit.Extended(True))"
   ]
  },
  {
   "cell_type": "code",
   "execution_count": 5,
   "metadata": {
    "collapsed": true
   },
   "outputs": [],
   "source": [
    "minuit = r.RooMinuit(nll)"
   ]
  },
  {
   "cell_type": "code",
   "execution_count": 6,
   "metadata": {
    "collapsed": false
   },
   "outputs": [
    {
     "data": {
      "text/plain": [
       "0"
      ]
     },
     "execution_count": 6,
     "metadata": {},
     "output_type": "execute_result"
    },
    {
     "name": "stdout",
     "output_type": "stream",
     "text": [
      " **********\n",
      " **    9 **SET STR           2\n",
      " **********\n",
      " NOW USING STRATEGY  2: MAKE SURE MINIMUM TRUE, ERRORS CORRECT  \n",
      " **********\n",
      " **   14 **MIGRAD        3500           1\n",
      " **********\n",
      " FIRST CALL TO USER FUNCTION AT NEW START POINT, WITH IFLAG=4.\n",
      " START MIGRAD MINIMIZATION.  STRATEGY  2.  CONVERGENCE WHEN EDM .LT. 1.00e-03\n",
      " MINUIT WARNING IN HESSE   \n",
      " ============== Negative diagonal element 1 in Error Matrix\n",
      " MINUIT WARNING IN HESSE   \n",
      " ============== Negative diagonal element 5 in Error Matrix\n",
      " MINUIT WARNING IN HESSE   \n",
      " ============== 1142.65 added to diagonal of error matrix\n",
      " EIGENVALUES OF SECOND-DERIVATIVE MATRIX:\n",
      "        -2.3809e+01  6.2944e-01  8.4245e-01  1.0448e+00  1.0821e+00  1.2836e+00  2.5927e+01\n",
      " MINUIT WARNING IN HESSE   \n",
      " ============== MATRIX FORCED POS-DEF BY ADDING 23.834920 TO DIAGONAL.\n",
      " FCN=-76973.9 FROM HESSE     STATUS=NOT POSDEF     80 CALLS          81 TOTAL\n",
      "                     EDM=6.80019e+06    STRATEGY= 2      ERR MATRIX NOT POS-DEF\n",
      "  EXT PARAMETER                APPROXIMATE        STEP         FIRST   \n",
      "  NO.   NAME      VALUE            ERROR          SIZE      DERIVATIVE \n",
      "   1  alp          1.30000e+00   4.27025e+00   1.70476e-01   8.65301e+02\n",
      "   2  crv         -2.00000e+01   8.63141e-01   4.74037e-01   6.29826e+01\n",
      "   3  gB0          3.00000e-03   1.00270e-04   4.24263e-02  -2.22467e+03\n",
      "   4  mB0          5.28000e+00   1.52769e-04   6.01503e-03   8.63858e+03\n",
      "   5  mCt          5.29000e+00   3.28080e-04   2.71887e-01   8.59174e+01\n",
      "   6  nbg          3.00000e+03   9.74134e+01   7.84181e-02   1.69968e+01\n",
      "   7  nsg          7.00000e+03   1.46001e+02   2.09628e-01   1.82114e+03\n",
      "                               ERR DEF= 0.5\n",
      "[#0] WARNING:Minization -- RooMinuitGlue: Minimized function has error status.\n",
      "Returning maximum FCN so far (-76445.1) to force MIGRAD to back out of this region. Error log follows\n",
      "Parameter values: alp=0.449044, crv=-79.7838, gB0=0.00528402, mB0=5.12395, mCt=5.21927, nbg=4618.64, nsg=2298.99\n",
      "RooNLLVar::nll_pdf_data[ paramSet=(alp,crv,gB0,mB0,mCt,nbg,ncb,nsg) ]\n",
      "     function value is NAN @ paramSet=(alp = 0.449044,crv = -79.7838,gB0 = 0.00528402,mB0 = 5.12395,mCt = 5.21927,nbg = 4618.64,ncb = 15,nsg = 2298.99)\n",
      "RooAddPdf::pdf[ nsg * sig + nbg * bkg ]\n",
      "     getLogVal() top-level p.d.f evaluates to zero @ !refCoefNorm=(), !pdfs=(sig = 1.87819e-91/0,bkg = 0/0.00408693), !coefficients=(nsg = 2298.99,nbg = 4618.64)\n",
      "     getLogVal() top-level p.d.f evaluates to zero @ !refCoefNorm=(), !pdfs=(sig = 1.73927e-75/0,bkg = 0/0.00408693), !coefficients=(nsg = 2298.99,nbg = 4618.64)\n",
      "     getLogVal() top-level p.d.f evaluates to zero @ !refCoefNorm=(), !pdfs=(sig = 2.28493e-190/0,bkg = 0/0.00408693), !coefficients=(nsg = 2298.99,nbg = 4618.64)\n",
      "     getLogVal() top-level p.d.f evaluates to zero @ !refCoefNorm=(), !pdfs=(sig = 4.54207e-114/0,bkg = 0/0.00408693), !coefficients=(nsg = 2298.99,nbg = 4618.64)\n",
      "     getLogVal() top-level p.d.f evaluates to zero @ !refCoefNorm=(), !pdfs=(sig = 1.28334e-205/0,bkg = 0/0.00408693), !coefficients=(nsg = 2298.99,nbg = 4618.64)\n",
      "     getLogVal() top-level p.d.f evaluates to zero @ !refCoefNorm=(), !pdfs=(sig = 1.54873e-206/0,bkg = 0/0.00408693), !coefficients=(nsg = 2298.99,nbg = 4618.64)\n",
      "     getLogVal() top-level p.d.f evaluates to zero @ !refCoefNorm=(), !pdfs=(sig = 9.99165e-183/0,bkg = 0/0.00408693), !coefficients=(nsg = 2298.99,nbg = 4618.64)\n",
      "     getLogVal() top-level p.d.f evaluates to zero @ !refCoefNorm=(), !pdfs=(sig = 2.42615e-184/0,bkg = 0/0.00408693), !coefficients=(nsg = 2298.99,nbg = 4618.64)\n",
      "     getLogVal() top-level p.d.f evaluates to zero @ !refCoefNorm=(), !pdfs=(sig = 1.01797e-89/0,bkg = 0/0.00408693), !coefficients=(nsg = 2298.99,nbg = 4618.64)\n",
      "     getLogVal() top-level p.d.f evaluates to zero @ !refCoefNorm=(), !pdfs=(sig = 2.71239e-198/0,bkg = 0/0.00408693), !coefficients=(nsg = 2298.99,nbg = 4618.64)\n",
      "     getLogVal() top-level p.d.f evaluates to zero @ !refCoefNorm=(), !pdfs=(sig = 1.09648e-194/0,bkg = 0/0.00408693), !coefficients=(nsg = 2298.99,nbg = 4618.64)\n",
      "     getLogVal() top-level p.d.f evaluates to zero @ !refCoefNorm=(), !pdfs=(sig = 6.04828e-192/0,bkg = 0/0.00408693), !coefficients=(nsg = 2298.99,nbg = 4618.64)\n",
      "    ... (remaining 2038 messages suppressed)\n",
      "RooCBShape::sig[ m=B0_mbc m0=mB0 sigma=gB0 alpha=alp n=ncb ]\n",
      "     p.d.f normalization integral is zero or negative @ m=B0_mbc=5.24049, m0=mB0=5.12395, sigma=gB0=0.00528402, alpha=alp=0.449044, n=ncb=15\n",
      "     p.d.f normalization integral is zero or negative @ m=B0_mbc=5.25068, m0=mB0=5.12395, sigma=gB0=0.00528402, alpha=alp=0.449044, n=ncb=15\n",
      "     p.d.f normalization integral is zero or negative @ m=B0_mbc=5.23385, m0=mB0=5.12395, sigma=gB0=0.00528402, alpha=alp=0.449044, n=ncb=15\n",
      "     p.d.f normalization integral is zero or negative @ m=B0_mbc=5.28111, m0=mB0=5.12395, sigma=gB0=0.00528402, alpha=alp=0.449044, n=ncb=15\n",
      "     p.d.f normalization integral is zero or negative @ m=B0_mbc=5.25203, m0=mB0=5.12395, sigma=gB0=0.00528402, alpha=alp=0.449044, n=ncb=15\n",
      "     p.d.f normalization integral is zero or negative @ m=B0_mbc=5.2557, m0=mB0=5.12395, sigma=gB0=0.00528402, alpha=alp=0.449044, n=ncb=15\n",
      "     p.d.f normalization integral is zero or negative @ m=B0_mbc=5.27889, m0=mB0=5.12395, sigma=gB0=0.00528402, alpha=alp=0.449044, n=ncb=15\n",
      "     p.d.f normalization integral is zero or negative @ m=B0_mbc=5.274, m0=mB0=5.12395, sigma=gB0=0.00528402, alpha=alp=0.449044, n=ncb=15\n",
      "     p.d.f normalization integral is zero or negative @ m=B0_mbc=5.27737, m0=mB0=5.12395, sigma=gB0=0.00528402, alpha=alp=0.449044, n=ncb=15\n",
      "     p.d.f normalization integral is zero or negative @ m=B0_mbc=5.27766, m0=mB0=5.12395, sigma=gB0=0.00528402, alpha=alp=0.449044, n=ncb=15\n",
      "     p.d.f normalization integral is zero or negative @ m=B0_mbc=5.28142, m0=mB0=5.12395, sigma=gB0=0.00528402, alpha=alp=0.449044, n=ncb=15\n",
      "     p.d.f normalization integral is zero or negative @ m=B0_mbc=5.28291, m0=mB0=5.12395, sigma=gB0=0.00528402, alpha=alp=0.449044, n=ncb=15\n",
      "    ... (remaining 2038 messages suppressed)\n",
      "\n",
      "[#0] WARNING:Minization -- RooMinuitGlue: Minimized function has error status.\n",
      "Returning maximum FCN so far (-76445.1) to force MIGRAD to back out of this region. Error log follows\n",
      "Parameter values: alp=4.62132, crv=-19.2947, gB0=0.00409781, mB0=5.13749, mCt=5.24335, nbg=78.9024, nsg=9413.62\n",
      "RooNLLVar::nll_pdf_data[ paramSet=(alp,crv,gB0,mB0,mCt,nbg,ncb,nsg) ]\n",
      "     function value is NAN @ paramSet=(alp = 4.62132,crv = -19.2947,gB0 = 0.00409781,mB0 = 5.13749,mCt = 5.24335,nbg = 78.9024,ncb = 15,nsg = 9413.62)\n",
      "RooAddPdf::pdf[ nsg * sig + nbg * bkg ]\n",
      "     getLogVal() top-level p.d.f evaluates to zero @ !refCoefNorm=(), !pdfs=(sig = 1.13267e-263/0,bkg = 0/0.0160602), !coefficients=(nsg = 9413.62,nbg = 78.9024)\n",
      "     getLogVal() top-level p.d.f evaluates to zero @ !refCoefNorm=(), !pdfs=(sig = 3.65259e-229/0,bkg = 0/0.0160602), !coefficients=(nsg = 9413.62,nbg = 78.9024)\n",
      "     getLogVal() top-level p.d.f evaluates to zero @ !refCoefNorm=(), !pdfs=(sig = 6.50703e-249/0,bkg = 0/0.0160602), !coefficients=(nsg = 9413.62,nbg = 78.9024)\n",
      "     getLogVal() top-level p.d.f evaluates to zero @ !refCoefNorm=(), !pdfs=(sig = 1.61043e-224/0,bkg = 0/0.0160602), !coefficients=(nsg = 9413.62,nbg = 78.9024)\n",
      "     getLogVal() top-level p.d.f evaluates to zero @ !refCoefNorm=(), !pdfs=(sig = 1.21718e-241/0,bkg = 0/0.0160602), !coefficients=(nsg = 9413.62,nbg = 78.9024)\n",
      "     getLogVal() top-level p.d.f evaluates to zero @ !refCoefNorm=(), !pdfs=(sig = 1.06626e-264/0,bkg = 0/0.0160602), !coefficients=(nsg = 9413.62,nbg = 78.9024)\n",
      "     getLogVal() top-level p.d.f evaluates to zero @ !refCoefNorm=(), !pdfs=(sig = 6.54646e-276/0,bkg = 0/0.0160602), !coefficients=(nsg = 9413.62,nbg = 78.9024)\n",
      "     getLogVal() top-level p.d.f evaluates to zero @ !refCoefNorm=(), !pdfs=(sig = 3.23059e-267/0,bkg = 0/0.0160602), !coefficients=(nsg = 9413.62,nbg = 78.9024)\n",
      "     getLogVal() top-level p.d.f evaluates to zero @ !refCoefNorm=(), !pdfs=(sig = 1.30069e-268/0,bkg = 0/0.0160602), !coefficients=(nsg = 9413.62,nbg = 78.9024)\n",
      "     getLogVal() top-level p.d.f evaluates to zero @ !refCoefNorm=(), !pdfs=(sig = 4.66927e-259/0,bkg = 0/0.0160602), !coefficients=(nsg = 9413.62,nbg = 78.9024)\n",
      "     getLogVal() top-level p.d.f evaluates to zero @ !refCoefNorm=(), !pdfs=(sig = 9.44465e-270/0,bkg = 0/0.0160602), !coefficients=(nsg = 9413.62,nbg = 78.9024)\n",
      "     getLogVal() top-level p.d.f evaluates to zero @ !refCoefNorm=(), !pdfs=(sig = 1.86935e-160/0,bkg = 0/0.0160602), !coefficients=(nsg = 9413.62,nbg = 78.9024)\n",
      "    ... (remaining 2038 messages suppressed)\n",
      "RooCBShape::sig[ m=B0_mbc m0=mB0 sigma=gB0 alpha=alp n=ncb ]\n",
      "     p.d.f normalization integral is zero or negative @ m=B0_mbc=5.24049, m0=mB0=5.13749, sigma=gB0=0.00409781, alpha=alp=4.62132, n=ncb=15\n",
      "     p.d.f normalization integral is zero or negative @ m=B0_mbc=5.25068, m0=mB0=5.13749, sigma=gB0=0.00409781, alpha=alp=4.62132, n=ncb=15\n",
      "     p.d.f normalization integral is zero or negative @ m=B0_mbc=5.23385, m0=mB0=5.13749, sigma=gB0=0.00409781, alpha=alp=4.62132, n=ncb=15\n",
      "     p.d.f normalization integral is zero or negative @ m=B0_mbc=5.28111, m0=mB0=5.13749, sigma=gB0=0.00409781, alpha=alp=4.62132, n=ncb=15\n",
      "     p.d.f normalization integral is zero or negative @ m=B0_mbc=5.25203, m0=mB0=5.13749, sigma=gB0=0.00409781, alpha=alp=4.62132, n=ncb=15\n",
      "     p.d.f normalization integral is zero or negative @ m=B0_mbc=5.2557, m0=mB0=5.13749, sigma=gB0=0.00409781, alpha=alp=4.62132, n=ncb=15\n",
      "     p.d.f normalization integral is zero or negative @ m=B0_mbc=5.27889, m0=mB0=5.13749, sigma=gB0=0.00409781, alpha=alp=4.62132, n=ncb=15\n",
      "     p.d.f normalization integral is zero or negative @ m=B0_mbc=5.274, m0=mB0=5.13749, sigma=gB0=0.00409781, alpha=alp=4.62132, n=ncb=15\n",
      "     p.d.f normalization integral is zero or negative @ m=B0_mbc=5.27737, m0=mB0=5.13749, sigma=gB0=0.00409781, alpha=alp=4.62132, n=ncb=15\n",
      "     p.d.f normalization integral is zero or negative @ m=B0_mbc=5.27766, m0=mB0=5.13749, sigma=gB0=0.00409781, alpha=alp=4.62132, n=ncb=15\n",
      "     p.d.f normalization integral is zero or negative @ m=B0_mbc=5.28142, m0=mB0=5.13749, sigma=gB0=0.00409781, alpha=alp=4.62132, n=ncb=15\n",
      "     p.d.f normalization integral is zero or negative @ m=B0_mbc=5.28291, m0=mB0=5.13749, sigma=gB0=0.00409781, alpha=alp=4.62132, n=ncb=15\n",
      "    ... (remaining 2038 messages suppressed)\n",
      "\n",
      " MIGRAD MINIMIZATION HAS CONVERGED.\n",
      " MIGRAD WILL VERIFY CONVERGENCE AND ERROR MATRIX.\n",
      " COVARIANCE MATRIX CALCULATED SUCCESSFULLY\n",
      " FCN=-77829.9 FROM MIGRAD    STATUS=CONVERGED     686 CALLS         687 TOTAL\n",
      "                     EDM=0.000128508    STRATEGY= 2      ERROR MATRIX ACCURATE \n",
      "  EXT PARAMETER                                   STEP         FIRST   \n",
      "  NO.   NAME      VALUE            ERROR          SIZE      DERIVATIVE \n",
      "   1  alp          1.10110e+00   7.91483e-02   4.83866e-03  -1.28496e-01\n",
      "   2  crv         -4.35462e+01   3.28872e+00   1.14761e-02   1.22202e-02\n",
      "   3  gB0          3.38457e-03   7.73215e-05   1.81103e-03   3.05883e-01\n",
      "   4  mB0          5.27957e+00   8.59728e-05   2.20876e-04  -1.87298e+00\n",
      "   5  mCt          5.28978e+00   1.28020e-04   8.04904e-04   2.46125e+00\n",
      "   6  nbg          3.27124e+03   8.70905e+01   2.60360e-03   1.10293e-01\n",
      "   7  nsg          3.93372e+03   9.08067e+01   2.69084e-03  -1.42786e-01\n",
      "                               ERR DEF= 0.5\n",
      " EXTERNAL ERROR MATRIX.    NDIM=  25    NPAR=  7    ERR DEF=0.5\n",
      "  6.268e-03 -1.131e-01  2.602e-06 -3.652e-06 -8.303e-07  3.160e+00 -3.161e+00 \n",
      " -1.131e-01  1.084e+01  4.247e-05  3.643e-05  2.444e-05 -1.721e+02  1.721e+02 \n",
      "  2.602e-06  4.247e-05  5.979e-09 -2.878e-09 -1.571e-09 -9.242e-04  9.231e-04 \n",
      " -3.652e-06  3.643e-05 -2.878e-09  7.391e-09 -2.289e-11 -9.974e-04  9.983e-04 \n",
      " -8.303e-07  2.444e-05 -1.571e-09 -2.289e-11  1.639e-08  3.130e-04 -3.125e-04 \n",
      "  3.160e+00 -1.721e+02 -9.242e-04 -9.974e-04  3.130e-04  7.586e+03 -4.312e+03 \n",
      " -3.161e+00  1.721e+02  9.231e-04  9.983e-04 -3.125e-04 -4.312e+03  8.247e+03 \n",
      " PARAMETER  CORRELATION COEFFICIENTS  \n",
      "       NO.  GLOBAL      1      2      3      4      5      6      7\n",
      "        1  0.78030   1.000 -0.434  0.425 -0.537 -0.082  0.458 -0.440\n",
      "        2  0.70152  -0.434  1.000  0.167  0.129  0.058 -0.600  0.575\n",
      "        3  0.66018   0.425  0.167  1.000 -0.433 -0.159 -0.137  0.131\n",
      "        4  0.58939  -0.537  0.129 -0.433  1.000 -0.002 -0.133  0.128\n",
      "        5  0.22132  -0.082  0.058 -0.159 -0.002  1.000  0.028 -0.027\n",
      "        6  0.68672   0.458 -0.600 -0.137 -0.133  0.028  1.000 -0.545\n",
      "        7  0.66100  -0.440  0.575  0.131  0.128 -0.027 -0.545  1.000\n"
     ]
    }
   ],
   "source": [
    "minuit.setStrategy(2)\n",
    "#minuit.setVerbose(True)\n",
    "minuit.migrad()\n",
    "#minuit.minos()"
   ]
  },
  {
   "cell_type": "code",
   "execution_count": 7,
   "metadata": {
    "collapsed": false
   },
   "outputs": [
    {
     "data": {
      "text/plain": [
       "0"
      ]
     },
     "execution_count": 7,
     "metadata": {},
     "output_type": "execute_result"
    },
    {
     "name": "stdout",
     "output_type": "stream",
     "text": [
      " **********\n",
      " **   19 **HESSE        3500\n",
      " **********\n",
      " COVARIANCE MATRIX CALCULATED SUCCESSFULLY\n",
      " FCN=-77829.9 FROM HESSE     STATUS=OK             64 CALLS         751 TOTAL\n",
      "                     EDM=1.11095    STRATEGY= 2      ERROR MATRIX ACCURATE \n",
      "  EXT PARAMETER                                INTERNAL      INTERNAL  \n",
      "  NO.   NAME      VALUE            ERROR       STEP SIZE       VALUE   \n",
      "   1  alp          1.10110e+00   8.08582e-02   1.93546e-04   3.07831e+01\n",
      "   2  crv         -4.35462e+01   3.40938e+00   2.29522e-03  -7.71950e-02\n",
      "   3  gB0          3.38457e-03   7.87748e-05   7.24411e-05  -5.93322e-01\n",
      "   4  mB0          5.27957e+00   8.64582e-05   4.41752e-05   9.20186e-01\n",
      "   5  mCt          5.28978e+00   5.01766e-04   8.58942e-02   9.20112e-01\n",
      "   6  nbg          3.27124e+03   8.73473e+01   1.04144e-04  -3.54476e-01\n",
      "   7  nsg          3.93372e+03   9.10572e+01   1.07634e-04  -2.16149e-01\n",
      "                               ERR DEF= 0.5\n",
      " EXTERNAL ERROR MATRIX.    NDIM=  25    NPAR=  7    ERR DEF=0.5\n",
      "  6.542e-03 -1.266e-01  2.855e-06 -3.736e-06 -7.528e-06  3.235e+00 -3.235e+00 \n",
      " -1.266e-01  1.165e+01  2.898e-05  3.714e-05  4.485e-04 -1.746e+02  1.746e+02 \n",
      "  2.855e-06  2.898e-05  6.206e-09 -2.949e-09 -8.824e-09 -8.743e-04  8.742e-04 \n",
      " -3.736e-06  3.714e-05 -2.949e-09  7.475e-09 -2.191e-10 -1.035e-03  1.035e-03 \n",
      " -7.528e-06  4.485e-04 -8.824e-09 -2.191e-10  2.518e-07 -2.429e-04  2.430e-04 \n",
      "  3.235e+00 -1.746e+02 -8.743e-04 -1.035e-03 -2.429e-04  7.630e+03 -4.359e+03 \n",
      " -3.235e+00  1.746e+02  8.742e-04  1.035e-03  2.430e-04 -4.359e+03  8.292e+03 \n",
      " PARAMETER  CORRELATION COEFFICIENTS  \n",
      "       NO.  GLOBAL      1      2      3      4      5      6      7\n",
      "        1  0.79092   1.000 -0.458  0.448 -0.534 -0.185  0.458 -0.439\n",
      "        2  0.72632  -0.458  1.000  0.108  0.126  0.262 -0.586  0.562\n",
      "        3  0.67558   0.448  0.108  1.000 -0.433 -0.223 -0.127  0.122\n",
      "        4  0.59553  -0.534  0.126 -0.433  1.000 -0.005 -0.137  0.131\n",
      "        5  0.44078  -0.185  0.262 -0.223 -0.005  1.000 -0.006  0.005\n",
      "        6  0.68898   0.458 -0.586 -0.127 -0.137 -0.006  1.000 -0.548\n",
      "        7  0.66333  -0.439  0.562  0.122  0.131  0.005 -0.548  1.000\n"
     ]
    }
   ],
   "source": [
    "minuit.hesse()"
   ]
  },
  {
   "cell_type": "code",
   "execution_count": 8,
   "metadata": {
    "collapsed": false,
    "scrolled": false
   },
   "outputs": [
    {
     "data": {
      "image/png": "[encoded data removed]",
      "text/plain": [
       "<IPython.core.display.Image object>"
      ]
     },
     "metadata": {},
     "output_type": "display_data"
    }
   ],
   "source": [
    "canvas = r.TCanvas()\n",
    "nsg_plot = nsg.frame()\n",
    "nll.plotOn(nsg_plot)\n",
    "#nsg_plot.SetMaximum(-70000)\n",
    "nsg_plot.Draw()\n",
    "canvas.Draw()"
   ]
  },
  {
   "cell_type": "markdown",
   "metadata": {
    "collapsed": true
   },
   "source": [
    "It's important to understand this is just a projection of the likelihood (a multidimensional function)."
   ]
  }
 ],
 "metadata": {
  "kernelspec": {
   "display_name": "Python 3",
   "language": "python",
   "name": "python3"
  },
  "language_info": {
   "codemirror_mode": {
    "name": "ipython",
    "version": 3
   },
   "file_extension": ".py",
   "mimetype": "text/x-python",
   "name": "python",
   "nbconvert_exporter": "python",
   "pygments_lexer": "ipython3",
   "version": "3.5.2"
  }
 },
 "nbformat": 4,
 "nbformat_minor": 1
}
